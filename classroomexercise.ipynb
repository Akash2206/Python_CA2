{
 "cells": [
  {
   "attachments": {},
   "cell_type": "markdown",
   "metadata": {},
   "source": [
    "Ex 3.3\n",
    "Create a function to find the sum of all the multiples of a or b in list l.\n",
    "(a,b,l) are function parameters"
   ]
  },
  {
   "cell_type": "code",
   "execution_count": 2,
   "metadata": {},
   "outputs": [],
   "source": [
    "def sum_of_multiples(a, b, l):\n",
    "    return sum([x for x in l if x % a == 0 or x % b == 0])"
   ]
  },
  {
   "cell_type": "code",
   "execution_count": 3,
   "metadata": {},
   "outputs": [
    {
     "data": {
      "text/plain": [
       "187"
      ]
     },
     "execution_count": 3,
     "metadata": {},
     "output_type": "execute_result"
    }
   ],
   "source": [
    "sum_of_multiples(3,5,l=[3,5,15,20,21,45,56,78])"
   ]
  },
  {
   "attachments": {},
   "cell_type": "markdown",
   "metadata": {},
   "source": [
    "Ex 3.4\n",
    "Create a function to find the sum of all \n",
    "the multiples of factors in list a  contained in list l.\n",
    "(a,l) are function parameters and len(a) == 2"
   ]
  },
  {
   "cell_type": "code",
   "execution_count": 4,
   "metadata": {},
   "outputs": [],
   "source": [
    "def sum_of_multiples(a, l):\n",
    "    if(len(a)==2):\n",
    "      result = 0\n",
    "      for i in l:\n",
    "        for j in a:\n",
    "              if i % j == 0:\n",
    "                  result += i\n",
    "                  break\n",
    "      return result\n",
    "    else:\n",
    "      print('''Length of 'a' should be 2''')"
   ]
  },
  {
   "cell_type": "code",
   "execution_count": 5,
   "metadata": {},
   "outputs": [
    {
     "name": "stdout",
     "output_type": "stream",
     "text": [
      "Length of 'a' should be 2\n"
     ]
    }
   ],
   "source": [
    "sum_of_multiples([15,20,30],l=[3,5,15,20,21,45,56,78])"
   ]
  },
  {
   "attachments": {},
   "cell_type": "markdown",
   "metadata": {},
   "source": [
    "Ex 3.5\n",
    "Create a function to find the sum of all \n",
    "the multiples of factors in list a contained in list l.\n",
    "(a,l) are function parameters"
   ]
  },
  {
   "cell_type": "code",
   "execution_count": 1,
   "metadata": {},
   "outputs": [],
   "source": [
    "def sum_of_multiples(a, l):\n",
    "    result = 0\n",
    "    for i in l:\n",
    "        for j in a:\n",
    "            if i % j == 0:\n",
    "                result += i\n",
    "                break\n",
    "    return result"
   ]
  },
  {
   "cell_type": "code",
   "execution_count": null,
   "metadata": {},
   "outputs": [
    {
     "data": {
      "text/plain": [
       "182"
      ]
     },
     "execution_count": 7,
     "metadata": {},
     "output_type": "execute_result"
    }
   ],
   "source": [
    "sum_of_multiples([2,3,5,7,11],l=list(range(1000)))"
   ]
  },
  {
   "attachments": {},
   "cell_type": "markdown",
   "metadata": {},
   "source": [
    "Ex 4.1\n",
    "Create a function to find the sum of all \n",
    "the multiples of factors in file with filename a \n",
    "contained in list file with filename b, each one number per line.\n",
    "(a,b) are function parameters"
   ]
  },
  {
   "cell_type": "code",
   "execution_count": 1,
   "metadata": {},
   "outputs": [],
   "source": [
    "f=open('b','w')\n",
    "for c in ['3','5','15','20']:\n",
    "  f.write(c+'\\n')"
   ]
  },
  {
   "cell_type": "code",
   "execution_count": 2,
   "metadata": {},
   "outputs": [],
   "source": [
    "f1=open('a','w')\n",
    "for c in ['3','5']:\n",
    "  f1.write(c+'\\n')"
   ]
  },
  {
   "cell_type": "code",
   "execution_count": 7,
   "metadata": {},
   "outputs": [],
   "source": [
    "f1=open('a')\n",
    "f=open('b')"
   ]
  },
  {
   "cell_type": "code",
   "execution_count": 8,
   "metadata": {},
   "outputs": [],
   "source": [
    "def sum_of_multiples(a, b):\n",
    "    with open(a, 'r') as factor_file, open(b, 'r') as list_file:\n",
    "        factors = [int(line.strip()) for line in factor_file]\n",
    "        numbers = [int(line.strip()) for line in list_file]\n",
    "        result = 0\n",
    "        for number in numbers:\n",
    "            for factor in factors:\n",
    "                if number % factor == 0:\n",
    "                    result += number\n",
    "                    break\n",
    "    return result"
   ]
  },
  {
   "cell_type": "code",
   "execution_count": 9,
   "metadata": {},
   "outputs": [
    {
     "data": {
      "text/plain": [
       "43"
      ]
     },
     "execution_count": 9,
     "metadata": {},
     "output_type": "execute_result"
    }
   ],
   "source": [
    "sum_of_multiples(a='a', b='b')"
   ]
  },
  {
   "cell_type": "markdown",
   "metadata": {},
   "source": [
    "Ex 4.2\n",
    "Be efficient\n",
    "Ex 4.3\n",
    "Keep your code DRY (No repetition of previous code)"
   ]
  },
  {
   "cell_type": "code",
   "execution_count": 10,
   "metadata": {},
   "outputs": [],
   "source": [
    "def sum_of_multiples(a, b):\n",
    "    with open(a, 'r') as factor_file, open(b, 'r') as list_file:\n",
    "        factors = [int(line.strip()) for line in factor_file]\n",
    "        numbers = [int(line.strip()) for line in list_file]\n",
    "        \n",
    "        return sum(number for number in numbers if any(number % factor == 0 for factor in factors))"
   ]
  },
  {
   "cell_type": "code",
   "execution_count": 11,
   "metadata": {},
   "outputs": [
    {
     "data": {
      "text/plain": [
       "43"
      ]
     },
     "execution_count": 11,
     "metadata": {},
     "output_type": "execute_result"
    }
   ],
   "source": [
    "sum_of_multiples(a='a', b='b')"
   ]
  },
  {
   "cell_type": "code",
   "execution_count": 12,
   "metadata": {},
   "outputs": [],
   "source": [
    "f.close()\n",
    "f1.close()"
   ]
  },
  {
   "attachments": {},
   "cell_type": "markdown",
   "metadata": {},
   "source": [
    "#Ex 5.1\n",
    "#Create a function which takes an input filename and an output filename, and writes the output as follows:\n",
    "\n",
    "#for input file with each line formatted as follows:\n",
    "#n a1 a2 ...\n",
    "#eg\n",
    "#1000 3 5\n",
    "\n",
    "#the output file should contain a line which is the same, prepended by the result of f35([a1,a2...],range(n))\n",
    "#eg\n",
    "#233168 1000 3 5\n",
    "\n",
    "#DRY"
   ]
  },
  {
   "cell_type": "code",
   "execution_count": 1,
   "metadata": {},
   "outputs": [],
   "source": [
    "inputfile='inputfile.txt'\n",
    "outputfile='outputfile.txt'"
   ]
  },
  {
   "cell_type": "code",
   "execution_count": 2,
   "metadata": {},
   "outputs": [],
   "source": [
    "def write_in_file(inputfile, outputfile):\n",
    "    with open(inputfile, 'r') as input_file, open(outputfile, 'a') as output_file:\n",
    "        for line in input_file:\n",
    "            l = list(map(int, line.split()))\n",
    "            x = sum_of_multiples(l[1:], l=list(range(l[0])))\n",
    "            output = str(x) + ' ' + ' '.join(map(str, l)) + '\\n'\n",
    "            output_file.write(output)"
   ]
  },
  {
   "cell_type": "code",
   "execution_count": 5,
   "metadata": {},
   "outputs": [],
   "source": [
    "write_in_file(inputfile, outputfile)"
   ]
  },
  {
   "cell_type": "code",
   "execution_count": 2,
   "metadata": {},
   "outputs": [],
   "source": [
    "#Ex 6.1\n",
    "#Handle file not found errors in Ex 5.1 - write empty file.\n",
    "#write to a file <outputfilename>(1) if the file exists\n",
    "inputfile='inputfile.txt'\n",
    "outputfile='output61.txt'\n",
    "def write_in_file(inputfile, outputfile):\n",
    "    try:  \n",
    "      with open(inputfile, 'r') as input_file, open(outputfile, 'a') as output_file:\n",
    "          for line in input_file:\n",
    "              l = list(map(int, line.split()))\n",
    "              x = sum_of_multiples(l[1:], l=list(range(l[0])))  \n",
    "              output = f\"{x} {' '.join(map(str, l))}\\n\"\n",
    "              output_file.write(output)\n",
    "    except FileNotFoundError:\n",
    "      print(\"Wrong file or file path\")\n",
    "\n",
    "write_in_file(inputfile, outputfile)"
   ]
  },
  {
   "cell_type": "code",
   "execution_count": 3,
   "metadata": {},
   "outputs": [
    {
     "name": "stdout",
     "output_type": "stream",
     "text": [
      "Corrupt, please enter int values.\n"
     ]
    }
   ],
   "source": [
    "#Ex 6.2\n",
    "#Handle corrupt lines by ignoring them and prepending 'Corrupt' to the line in the output file\n",
    "#'10 3 5 2' -> '37 10 3 5 2'\n",
    "#'10 3 5 Hello' -> 'Corrupt 10 3 5 Hello'\n",
    "#'10 3 5' -> '23 10 3 5'\n",
    "inputfile='ip1.txt'\n",
    "outputfile='output62.txt'\n",
    "def write_in_file(inputfile, outputfile):\n",
    "    try:  \n",
    "      with open(inputfile, 'r') as input_file, open(outputfile, 'a') as output_file:\n",
    "          for line in input_file:\n",
    "              try:\n",
    "                l = list(map(int, line.split()))\n",
    "              except ValueError:\n",
    "                print('Corrupt, please enter int values.')\n",
    "                output = f\"{'Corrupt'} {line}\"\n",
    "                output_file.write(output)\n",
    "                continue\n",
    "              x = sum_of_multiples(l[1:], l=list(range(l[0])))  \n",
    "              output = f\"{x} {' '.join(map(str, l))}\\n\"\n",
    "              output_file.write(output)\n",
    "    except FileNotFoundError:\n",
    "      print(\"Wrong file or file path\")\n",
    "\n",
    "write_in_file(inputfile, outputfile)"
   ]
  },
  {
   "cell_type": "code",
   "execution_count": 4,
   "metadata": {},
   "outputs": [
    {
     "name": "stdout",
     "output_type": "stream",
     "text": [
      "Ignoring the non-int values.\n"
     ]
    }
   ],
   "source": [
    "#Ex 6.3\n",
    "#Handle corrupt values by ignoring them:\n",
    "#'10 3 5 Hello' -> '23 10 3 5 Hello'\n",
    "inputfile='ip2.txt'\n",
    "outputfile='output63.txt'\n",
    "def write_in_file(inputfile, outputfile):\n",
    "    try:  \n",
    "      with open(inputfile, 'r') as input_file, open(outputfile, 'a') as output_file:\n",
    "          for line in input_file:\n",
    "              l = line.split()\n",
    "              # print(l)\n",
    "              converted_list=[]\n",
    "              for i in l:\n",
    "                try:\n",
    "                    converted_list.append(int(i))\n",
    "                except ValueError:\n",
    "                  # print(converted_list)\n",
    "                  print('Ignoring the non-int values.')\n",
    "              x = sum_of_multiples(converted_list[1:], l=list(range(converted_list[0])))\n",
    "              output = f\"{x} {line}\"\n",
    "              output_file.write(output)\n",
    "    except FileNotFoundError:\n",
    "      print(\"Wrong file or file path\")\n",
    "write_in_file(inputfile, outputfile)"
   ]
  },
  {
   "cell_type": "code",
   "execution_count": null,
   "metadata": {},
   "outputs": [],
   "source": []
  }
 ],
 "metadata": {
  "kernelspec": {
   "display_name": "base",
   "language": "python",
   "name": "python3"
  },
  "language_info": {
   "codemirror_mode": {
    "name": "ipython",
    "version": 3
   },
   "file_extension": ".py",
   "mimetype": "text/x-python",
   "name": "python",
   "nbconvert_exporter": "python",
   "pygments_lexer": "ipython3",
   "version": "3.10.8"
  },
  "orig_nbformat": 4,
  "vscode": {
   "interpreter": {
    "hash": "db212d55faf76f31b92b1a9c906d6b4e3746659d061901e44df8b221fd0b969d"
   }
  }
 },
 "nbformat": 4,
 "nbformat_minor": 2
}
