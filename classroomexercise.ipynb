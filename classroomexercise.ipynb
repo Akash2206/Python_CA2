{
 "cells": [
  {
   "attachments": {},
   "cell_type": "markdown",
   "metadata": {},
   "source": [
    "Ex 3.3\n",
    "Create a function to find the sum of all the multiples of a or b in list l.\n",
    "(a,b,l) are function parameters"
   ]
  },
  {
   "cell_type": "code",
   "execution_count": 2,
   "metadata": {},
   "outputs": [],
   "source": [
    "def sum_of_multiples(a, b, l):\n",
    "    return sum([x for x in l if x % a == 0 or x % b == 0])"
   ]
  },
  {
   "cell_type": "code",
   "execution_count": 3,
   "metadata": {},
   "outputs": [
    {
     "data": {
      "text/plain": [
       "187"
      ]
     },
     "execution_count": 3,
     "metadata": {},
     "output_type": "execute_result"
    }
   ],
   "source": [
    "sum_of_multiples(3,5,l=[3,5,15,20,21,45,56,78])"
   ]
  },
  {
   "attachments": {},
   "cell_type": "markdown",
   "metadata": {},
   "source": [
    "Ex 3.4\n",
    "Create a function to find the sum of all \n",
    "the multiples of factors in list a  contained in list l.\n",
    "(a,l) are function parameters and len(a) == 2"
   ]
  },
  {
   "cell_type": "code",
   "execution_count": 4,
   "metadata": {},
   "outputs": [],
   "source": [
    "def sum_of_multiples(a, l):\n",
    "    if(len(a)==2):\n",
    "      result = 0\n",
    "      for i in l:\n",
    "        for j in a:\n",
    "              if i % j == 0:\n",
    "                  result += i\n",
    "                  break\n",
    "      return result\n",
    "    else:\n",
    "      print('''Length of 'a' should be 2''')"
   ]
  },
  {
   "cell_type": "code",
   "execution_count": 5,
   "metadata": {},
   "outputs": [
    {
     "name": "stdout",
     "output_type": "stream",
     "text": [
      "Length of 'a' should be 2\n"
     ]
    }
   ],
   "source": [
    "sum_of_multiples([15,20,30],l=[3,5,15,20,21,45,56,78])"
   ]
  },
  {
   "attachments": {},
   "cell_type": "markdown",
   "metadata": {},
   "source": [
    "Ex 3.5\n",
    "Create a function to find the sum of all \n",
    "the multiples of factors in list a contained in list l.\n",
    "(a,l) are function parameters"
   ]
  },
  {
   "cell_type": "code",
   "execution_count": 6,
   "metadata": {},
   "outputs": [],
   "source": [
    "def sum_of_multiples(a, l):\n",
    "    result = 0\n",
    "    for i in l:\n",
    "        for j in a:\n",
    "            if i % j == 0:\n",
    "                result += i\n",
    "                break\n",
    "    return result"
   ]
  },
  {
   "cell_type": "code",
   "execution_count": 7,
   "metadata": {},
   "outputs": [
    {
     "data": {
      "text/plain": [
       "182"
      ]
     },
     "execution_count": 7,
     "metadata": {},
     "output_type": "execute_result"
    }
   ],
   "source": [
    "sum_of_multiples([3,15,20],l=[3,5,15,20,21,45,56,78])"
   ]
  },
  {
   "cell_type": "code",
   "execution_count": null,
   "metadata": {},
   "outputs": [],
   "source": []
  }
 ],
 "metadata": {
  "kernelspec": {
   "display_name": "base",
   "language": "python",
   "name": "python3"
  },
  "language_info": {
   "codemirror_mode": {
    "name": "ipython",
    "version": 3
   },
   "file_extension": ".py",
   "mimetype": "text/x-python",
   "name": "python",
   "nbconvert_exporter": "python",
   "pygments_lexer": "ipython3",
   "version": "3.10.8"
  },
  "orig_nbformat": 4,
  "vscode": {
   "interpreter": {
    "hash": "db212d55faf76f31b92b1a9c906d6b4e3746659d061901e44df8b221fd0b969d"
   }
  }
 },
 "nbformat": 4,
 "nbformat_minor": 2
}
