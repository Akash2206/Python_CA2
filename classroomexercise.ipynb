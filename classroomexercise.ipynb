{
 "cells": [
  {
   "attachments": {},
   "cell_type": "markdown",
   "metadata": {},
   "source": [
    "Ex 3.3\n",
    "Create a function to find the sum of all the multiples of a or b in list l.\n",
    "(a,b,l) are function parameters"
   ]
  },
  {
   "cell_type": "code",
   "execution_count": 2,
   "metadata": {},
   "outputs": [],
   "source": [
    "def sum_of_multiples(a, b, l):\n",
    "    return sum([x for x in l if x % a == 0 or x % b == 0])"
   ]
  },
  {
   "cell_type": "code",
   "execution_count": 3,
   "metadata": {},
   "outputs": [
    {
     "data": {
      "text/plain": [
       "187"
      ]
     },
     "execution_count": 3,
     "metadata": {},
     "output_type": "execute_result"
    }
   ],
   "source": [
    "sum_of_multiples(3,5,l=[3,5,15,20,21,45,56,78])"
   ]
  },
  {
   "attachments": {},
   "cell_type": "markdown",
   "metadata": {},
   "source": [
    "Ex 3.4\n",
    "Create a function to find the sum of all \n",
    "the multiples of factors in list a  contained in list l.\n",
    "(a,l) are function parameters and len(a) == 2"
   ]
  },
  {
   "cell_type": "code",
   "execution_count": 4,
   "metadata": {},
   "outputs": [],
   "source": [
    "def sum_of_multiples(a, l):\n",
    "    if(len(a)==2):\n",
    "      result = 0\n",
    "      for i in l:\n",
    "        for j in a:\n",
    "              if i % j == 0:\n",
    "                  result += i\n",
    "                  break\n",
    "      return result\n",
    "    else:\n",
    "      print('''Length of 'a' should be 2''')"
   ]
  },
  {
   "cell_type": "code",
   "execution_count": 5,
   "metadata": {},
   "outputs": [
    {
     "name": "stdout",
     "output_type": "stream",
     "text": [
      "Length of 'a' should be 2\n"
     ]
    }
   ],
   "source": [
    "sum_of_multiples([15,20,30],l=[3,5,15,20,21,45,56,78])"
   ]
  },
  {
   "attachments": {},
   "cell_type": "markdown",
   "metadata": {},
   "source": [
    "Ex 3.5\n",
    "Create a function to find the sum of all \n",
    "the multiples of factors in list a contained in list l.\n",
    "(a,l) are function parameters"
   ]
  },
  {
   "cell_type": "code",
   "execution_count": null,
   "metadata": {},
   "outputs": [],
   "source": [
    "def sum_of_multiples(a, l):\n",
    "    result = 0\n",
    "    for i in l:\n",
    "        for j in a:\n",
    "            if i % j == 0:\n",
    "                result += i\n",
    "                break\n",
    "    return result"
   ]
  },
  {
   "cell_type": "code",
   "execution_count": null,
   "metadata": {},
   "outputs": [
    {
     "data": {
      "text/plain": [
       "182"
      ]
     },
     "execution_count": 7,
     "metadata": {},
     "output_type": "execute_result"
    }
   ],
   "source": [
    "sum_of_multiples([2,3,5,7,11],l=list(range(1000)))"
   ]
  },
  {
   "attachments": {},
   "cell_type": "markdown",
   "metadata": {},
   "source": [
    "Ex 3.6\n",
    "Create a function to find the sum of all \n",
    "the multiples of factors in file with filename a \n",
    "contained in list file with filename b, each one number per line.\n",
    "(a,b) are function parameters"
   ]
  },
  {
   "cell_type": "code",
   "execution_count": null,
   "metadata": {},
   "outputs": [],
   "source": [
    "f=open('b','w')\n",
    "for c in ['3','5','15','20']:\n",
    "  f.write(c+'\\n')"
   ]
  },
  {
   "cell_type": "code",
   "execution_count": null,
   "metadata": {},
   "outputs": [],
   "source": [
    "f1=open('a','w')\n",
    "for c in ['3','5']:\n",
    "  f1.write(c+'\\n')"
   ]
  },
  {
   "cell_type": "code",
   "execution_count": null,
   "metadata": {},
   "outputs": [],
   "source": [
    "def sum_of_multiples(a, b):\n",
    "    with open(a, 'r') as factor_file, open(b, 'r') as list_file:\n",
    "        factors = [int(line.strip()) for line in factor_file]\n",
    "        numbers = [int(line.strip()) for line in list_file]\n",
    "        result = 0\n",
    "        for number in numbers:\n",
    "            for factor in factors:\n",
    "                if number % factor == 0:\n",
    "                    result += number\n",
    "                    break\n",
    "    return result"
   ]
  },
  {
   "cell_type": "code",
   "execution_count": null,
   "metadata": {},
   "outputs": [],
   "source": [
    "sum_of_multiples(a='a', b='b')"
   ]
  },
  {
   "attachments": {},
   "cell_type": "markdown",
   "metadata": {},
   "source": [
    "Ex 3.6.1\n",
    "Be efficient\n",
    "Ex 3.6.2\n",
    "Keep your code DRY (No repetition of previous code)"
   ]
  },
  {
   "cell_type": "code",
   "execution_count": null,
   "metadata": {},
   "outputs": [],
   "source": [
    "def sum_of_multiples(a, b):\n",
    "    with open(a, 'r') as factor_file, open(b, 'r') as list_file:\n",
    "        factors = [int(line.strip()) for line in factor_file]\n",
    "        numbers = [int(line.strip()) for line in list_file]\n",
    "        \n",
    "        return sum(number for number in numbers if any(number % factor == 0 for factor in factors))"
   ]
  },
  {
   "cell_type": "code",
   "execution_count": null,
   "metadata": {},
   "outputs": [],
   "source": [
    "sum_of_multiples(a='a', b='b')"
   ]
  }
 ],
 "metadata": {
  "kernelspec": {
   "display_name": "base",
   "language": "python",
   "name": "python3"
  },
  "language_info": {
   "codemirror_mode": {
    "name": "ipython",
    "version": 3
   },
   "file_extension": ".py",
   "mimetype": "text/x-python",
   "name": "python",
   "nbconvert_exporter": "python",
   "pygments_lexer": "ipython3",
   "version": "3.10.8 | packaged by conda-forge | (main, Nov 24 2022, 14:07:00) [MSC v.1916 64 bit (AMD64)]"
  },
  "orig_nbformat": 4,
  "vscode": {
   "interpreter": {
    "hash": "db212d55faf76f31b92b1a9c906d6b4e3746659d061901e44df8b221fd0b969d"
   }
  }
 },
 "nbformat": 4,
 "nbformat_minor": 2
}
